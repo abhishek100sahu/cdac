{
 "cells": [
  {
   "cell_type": "code",
   "execution_count": 1,
   "id": "98ab0335-d76d-436e-b435-18f42c5143e4",
   "metadata": {},
   "outputs": [
    {
     "name": "stdout",
     "output_type": "stream",
     "text": [
      "HI, how are you?\n"
     ]
    }
   ],
   "source": [
    "print(\"HI, how are you?\")"
   ]
  },
  {
   "cell_type": "code",
   "execution_count": 2,
   "id": "b576f228-2be0-4930-8bb4-31f04339af4f",
   "metadata": {},
   "outputs": [],
   "source": [
    "a = 10"
   ]
  },
  {
   "cell_type": "code",
   "execution_count": 3,
   "id": "168d6f5b-b155-4e6e-b129-f270918a24a8",
   "metadata": {},
   "outputs": [],
   "source": [
    "b = 30"
   ]
  },
  {
   "cell_type": "code",
   "execution_count": 4,
   "id": "ea44c9ec-8a41-4117-9729-972b76fdb568",
   "metadata": {},
   "outputs": [
    {
     "data": {
      "text/plain": [
       "40"
      ]
     },
     "execution_count": 4,
     "metadata": {},
     "output_type": "execute_result"
    }
   ],
   "source": [
    "a + b"
   ]
  },
  {
   "cell_type": "code",
   "execution_count": null,
   "id": "4ab40c30-9617-44c8-a540-a573d4ca2a80",
   "metadata": {},
   "outputs": [],
   "source": []
  }
 ],
 "metadata": {
  "kernelspec": {
   "display_name": "Python 3 (ipykernel)",
   "language": "python",
   "name": "python3"
  },
  "language_info": {
   "codemirror_mode": {
    "name": "ipython",
    "version": 3
   },
   "file_extension": ".py",
   "mimetype": "text/x-python",
   "name": "python",
   "nbconvert_exporter": "python",
   "pygments_lexer": "ipython3",
   "version": "3.9.7"
  }
 },
 "nbformat": 4,
 "nbformat_minor": 5
}
